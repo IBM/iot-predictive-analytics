{
 "cells": [
  {
   "cell_type": "markdown",
   "metadata": {
    "collapsed": true
   },
   "source": [
    "# IoT Equipment Failure Prediction using Sensor data\n",
    "## 1 Environment Setup\n",
    "### 1.1 Import dependent libraries"
   ]
  },
  {
   "cell_type": "code",
   "execution_count": 1,
   "metadata": {},
   "outputs": [],
   "source": [
    "# Import libraries\n",
    "import pandas as pd\n",
    "import numpy as np\n",
    "import pdb\n",
    "import json\n",
    "import re\n",
    "import requests\n",
    "import sys\n",
    "import types\n",
    "import ibm_boto3"
   ]
  },
  {
   "cell_type": "code",
   "execution_count": 17,
   "metadata": {},
   "outputs": [],
   "source": [
    "# Import libraries\n",
    "from io import StringIO\n",
    "from sklearn.cross_validation import train_test_split\n",
    "from sklearn.linear_model import LogisticRegression\n",
    "from sklearn import metrics\n",
    "from botocore.client import Config"
   ]
  },
  {
   "cell_type": "markdown",
   "metadata": {},
   "source": [
    "## 2 Create IoT Predictive Analytics Functions"
   ]
  },
  {
   "cell_type": "code",
   "execution_count": 3,
   "metadata": {},
   "outputs": [],
   "source": [
    "# Function to extract Column names of dataset\n",
    "def dataset_columns(dataset):\n",
    "    return list(dataset.columns.values)\n",
    "\n",
    "# Function to train Logistic regression model\n",
    "def train_logistic_regression(x_vals, y_vals):\n",
    "    logistic_regression_model = LogisticRegression()\n",
    "    logistic_regression_model.fit(x_vals, y_vals)\n",
    "    return logistic_regression_model\n",
    "\n",
    "# Function to return Predicted values\n",
    "def score_data(trained_model, x_vals):\n",
    "    ypredict = trained_model.predict(x_vals)\n",
    "    return ypredict\n",
    "\n",
    "# Function to calculate Prediction accuracy of model\n",
    "def model_accuracy(trained_model, variables, targets):\n",
    "    accuracy_score = trained_model.score(variables, targets)\n",
    "    return accuracy_score\n",
    "\n",
    "# Function to generate Confusion matrix\n",
    "def confusion_matrix(actfail, predictfail):\n",
    "  # Compute Confusion matrix\n",
    "  print(\"Actual, Predicted Observations:  \",len(actfail), len(predictfail))\n",
    "  # print(actfail, predictfail)\n",
    "  anpn = 0\n",
    "  anpy = 0\n",
    "  aypn = 0\n",
    "  aypy = 0\n",
    "  \n",
    "  for i in range(len(actfail)):\n",
    "      if (actfail[i]==0 and predictfail[i]==0):\n",
    "          anpn = anpn + 1\n",
    "      elif (actfail[i]==0 and predictfail[i]==1):\n",
    "          anpy = anpy + 1\n",
    "      elif (actfail[i]==1 and predictfail[i]==0):\n",
    "          aypn = aypn + 1\n",
    "      else:\n",
    "          aypy = aypy + 1\n",
    "  # Confusoin matrix\n",
    "  print (\"--------------------------------------------\")\n",
    "  print (\"Confusion Matrix\")\n",
    "  print (\"--------------------------------------------\")\n",
    "  print (\"              \", \"Predicted N\", \"Predicted Y\")\n",
    "  print (\"Actual N      \", anpn,\"          \", anpy) \n",
    "  print (\"Actual Y      \", aypn,\"          \", aypy)\n",
    "  print (\"--------------------------------------------\")\n",
    "  print (\"Total observations  :  \", anpn+anpy+aypn+aypy)\n",
    "  print (\"False Positives     :  \", anpy)\n",
    "  print (\"False Negatives     :  \", aypn)\n",
    "  print (\"Overall Accuracy    :  \", round((float(anpn+aypy)/float(anpn+anpy+aypn+aypy))*100, 2), \"%\")\n",
    "  print (\"Sensitivity/Recall  :  \", round((float(aypy)/float(aypn+aypy))*100, 2), \"%\")\n",
    "  print (\"Specificity         :  \", round((float(anpn)/float(anpn+anpy))*100, 2), \"%\")\n",
    "  print (\"Precision           :  \", round((float(aypy)/float(anpy+aypy))*100, 2), \"%\")\n",
    "  print (\"--------------------------------------------\")\n"
   ]
  },
  {
   "cell_type": "markdown",
   "metadata": {},
   "source": [
    "## 3 Configure Parameters for Change Point Detection\n",
    "### 3.1 Read DSX Configuration file and load all parameters\n",
    "\n",
    "Complete below 2 steps before executing the rest of the cells\n",
    "\n",
    "1. Configure the parameters in JSON file and upload to Object storage\n",
    "2. Set the Configuration .json file name in the next section\n"
   ]
  },
  {
   "cell_type": "markdown",
   "metadata": {},
   "source": [
    "#### 3.1.1 Set the name of the .json configuration file"
   ]
  },
  {
   "cell_type": "code",
   "execution_count": 4,
   "metadata": {},
   "outputs": [],
   "source": [
    "# Specify file names for configuration files\n",
    "v_sampleConfigFileName = \"iotpredict_config.json\""
   ]
  },
  {
   "cell_type": "markdown",
   "metadata": {},
   "source": [
    "#### 3.1.2 Insert the Object Storage file credentials to read the .json configuration file"
   ]
  },
  {
   "cell_type": "code",
   "execution_count": 5,
   "metadata": {},
   "outputs": [],
   "source": [
    "# @hidden_cell\n",
    "# The section below needs to be modified:\n",
    "#    Insert your credentials to read data from your data sources and replace \n",
    "#    the credentials_1 = {} section below\n",
    "# @hidden_cell\n",
    "# The following code contains the credentials for a file in your IBM Cloud Object Storage.\n",
    "# You might want to remove those credentials before you share your notebook.\n",
    "credentials_1 = {\n",
    "    'IBM_API_KEY_ID': 'xxxxxxx',\n",
    "    'IAM_SERVICE_ID': 'xxxxxxx',\n",
    "    'ENDPOINT': 'https://s3-api.us-geo.objectstorage.service.networklayer.com',\n",
    "    'IBM_AUTH_ENDPOINT': 'https://iam.ng.bluemix.net/oidc/token',\n",
    "    'BUCKET': 'iotpredictivecloudstorage-donotdelete-xxxxx',\n",
    "    'FILE': 'iotpredict_config.txt'\n",
    "}\n"
   ]
  },
  {
   "cell_type": "markdown",
   "metadata": {},
   "source": [
    "### 3.2 Read Configuration parametric values"
   ]
  },
  {
   "cell_type": "code",
   "execution_count": 6,
   "metadata": {},
   "outputs": [],
   "source": [
    "# This function accesses a file in your Object Storage.\n",
    "# The definition uses your credentials that you set in the previous step.\n",
    "cos = ibm_boto3.client('s3',\n",
    "                    ibm_api_key_id=credentials_1['IBM_API_KEY_ID'],\n",
    "                    ibm_service_instance_id=credentials_1['IAM_SERVICE_ID'],\n",
    "                    ibm_auth_endpoint=credentials_1['IBM_AUTH_ENDPOINT'],\n",
    "                    config=Config(signature_version='oauth'),\n",
    "                    endpoint_url=credentials_1['ENDPOINT'])\n",
    "\n",
    "def get_file(filename):\n",
    "    '''Retrieve file from Cloud Object Storage'''\n",
    "    fileobject = cos.get_object(Bucket=credentials_1['BUCKET'], Key=filename)['Body']\n",
    "    return fileobject\n",
    "\n",
    "def load_string(fileobject):\n",
    "    '''Load the file contents into a Python string'''\n",
    "    text = fileobject.read()\n",
    "    return text\n",
    "\n",
    "def put_file(filename, filecontents):\n",
    "    '''Write file to Cloud Object Storage'''\n",
    "    resp = cos.put_object(Bucket=credentials_1['BUCKET'], Key=filename, Body=filecontents)\n",
    "    return resp"
   ]
  },
  {
   "cell_type": "code",
   "execution_count": 7,
   "metadata": {},
   "outputs": [],
   "source": [
    "# Function to Read json parametric values\n",
    "def f_getconfigval(injsonstr, invarname):\n",
    "    # paramname, paramvalue\n",
    "    # Unpack the json parameter values\n",
    "    # This section requires regex\n",
    "    for i in range(len(injsonstr)):\n",
    "        pair = injsonstr[i]\n",
    "        # Return parametric value\n",
    "        if pair['paramname'] == invarname:\n",
    "            return(pair['paramvalue'])"
   ]
  },
  {
   "cell_type": "code",
   "execution_count": 8,
   "metadata": {},
   "outputs": [
    {
     "name": "stdout",
     "output_type": "stream",
     "text": [
      "[{'paramname': 'features', 'paramvalue': \"['atemp', 'PID', 'outpressure', 'inpressure', 'temp']\"}, {'paramname': 'target', 'paramvalue': 'fail'}, {'paramname': 'data_size', 'paramvalue': '0.7'}]\n"
     ]
    }
   ],
   "source": [
    "# Read configuration parameters from JSON file\n",
    "# @hidden_cell\n",
    "# The section below needs to be modified:\n",
    "#    Insert your credentials to read data from your data sources and replace \n",
    "#    the idaConnect() section below\n",
    "# This function accesses a file in your Object Storage. The definition contains your\n",
    "#    credentials\n",
    "# Your data file was loaded into a StringIO object and you can process the data.\n",
    "# Please read the documentation of pandas to learn more about your possibilities to load your data.\n",
    "# pandas documentation: http://pandas.pydata.org/pandas-docs/stable/io.html\n",
    "inputfo = load_string(get_file(v_sampleConfigFileName))\n",
    "inputfo = inputfo.decode('utf-8')\n",
    "\n",
    "d = json.loads(inputfo)\n",
    "print(d)\n"
   ]
  },
  {
   "cell_type": "code",
   "execution_count": 9,
   "metadata": {},
   "outputs": [],
   "source": [
    "# Read JSON configuration parametric values\n",
    "# Unpack the json parameter values\n",
    "# This section uses regex\n",
    "v_feature_list = eval(\"list(\"+ f_getconfigval(d, \"features\") +\")\")\n",
    "v_target = str(f_getconfigval(d, \"target\"))\n",
    "v_train_datasize = float(f_getconfigval(d, \"data_size\"))\n"
   ]
  },
  {
   "cell_type": "code",
   "execution_count": 10,
   "metadata": {},
   "outputs": [
    {
     "name": "stdout",
     "output_type": "stream",
     "text": [
      "['atemp', 'PID', 'outpressure', 'inpressure', 'temp'] fail 0.7\n"
     ]
    }
   ],
   "source": [
    "# Verify configuration parametric values\n",
    "# print (feature_list, target, train_datasize)\n",
    "print (v_feature_list, v_target, v_train_datasize)"
   ]
  },
  {
   "cell_type": "markdown",
   "metadata": {},
   "source": [
    "## 4 Read IoT Sensor data from database"
   ]
  },
  {
   "cell_type": "code",
   "execution_count": 11,
   "metadata": {},
   "outputs": [
    {
     "name": "stdout",
     "output_type": "stream",
     "text": [
      "Number of Observations : 944\n"
     ]
    },
    {
     "data": {
      "text/html": [
       "<div>\n",
       "<style scoped>\n",
       "    .dataframe tbody tr th:only-of-type {\n",
       "        vertical-align: middle;\n",
       "    }\n",
       "\n",
       "    .dataframe tbody tr th {\n",
       "        vertical-align: top;\n",
       "    }\n",
       "\n",
       "    .dataframe thead th {\n",
       "        text-align: right;\n",
       "    }\n",
       "</style>\n",
       "<table border=\"1\" class=\"dataframe\">\n",
       "  <thead>\n",
       "    <tr style=\"text-align: right;\">\n",
       "      <th></th>\n",
       "      <th>popul</th>\n",
       "      <th>atemp</th>\n",
       "      <th>selfLR</th>\n",
       "      <th>ClinLR</th>\n",
       "      <th>DoleLR</th>\n",
       "      <th>PID</th>\n",
       "      <th>outpressure</th>\n",
       "      <th>inpressure</th>\n",
       "      <th>temp</th>\n",
       "      <th>fail</th>\n",
       "    </tr>\n",
       "  </thead>\n",
       "  <tbody>\n",
       "    <tr>\n",
       "      <th>0</th>\n",
       "      <td>0</td>\n",
       "      <td>7</td>\n",
       "      <td>7</td>\n",
       "      <td>1</td>\n",
       "      <td>6</td>\n",
       "      <td>6</td>\n",
       "      <td>36</td>\n",
       "      <td>3</td>\n",
       "      <td>1</td>\n",
       "      <td>1</td>\n",
       "    </tr>\n",
       "    <tr>\n",
       "      <th>1</th>\n",
       "      <td>190</td>\n",
       "      <td>1</td>\n",
       "      <td>3</td>\n",
       "      <td>3</td>\n",
       "      <td>5</td>\n",
       "      <td>1</td>\n",
       "      <td>20</td>\n",
       "      <td>4</td>\n",
       "      <td>1</td>\n",
       "      <td>0</td>\n",
       "    </tr>\n",
       "    <tr>\n",
       "      <th>2</th>\n",
       "      <td>31</td>\n",
       "      <td>7</td>\n",
       "      <td>2</td>\n",
       "      <td>2</td>\n",
       "      <td>6</td>\n",
       "      <td>1</td>\n",
       "      <td>24</td>\n",
       "      <td>6</td>\n",
       "      <td>1</td>\n",
       "      <td>0</td>\n",
       "    </tr>\n",
       "    <tr>\n",
       "      <th>3</th>\n",
       "      <td>83</td>\n",
       "      <td>4</td>\n",
       "      <td>3</td>\n",
       "      <td>4</td>\n",
       "      <td>5</td>\n",
       "      <td>1</td>\n",
       "      <td>28</td>\n",
       "      <td>6</td>\n",
       "      <td>1</td>\n",
       "      <td>0</td>\n",
       "    </tr>\n",
       "    <tr>\n",
       "      <th>4</th>\n",
       "      <td>640</td>\n",
       "      <td>7</td>\n",
       "      <td>5</td>\n",
       "      <td>6</td>\n",
       "      <td>4</td>\n",
       "      <td>0</td>\n",
       "      <td>68</td>\n",
       "      <td>6</td>\n",
       "      <td>1</td>\n",
       "      <td>0</td>\n",
       "    </tr>\n",
       "  </tbody>\n",
       "</table>\n",
       "</div>"
      ],
      "text/plain": [
       "   popul  atemp  selfLR  ClinLR  DoleLR  PID  outpressure  inpressure  temp  \\\n",
       "0      0      7       7       1       6    6           36           3     1   \n",
       "1    190      1       3       3       5    1           20           4     1   \n",
       "2     31      7       2       2       6    1           24           6     1   \n",
       "3     83      4       3       4       5    1           28           6     1   \n",
       "4    640      7       5       6       4    0           68           6     1   \n",
       "\n",
       "   fail  \n",
       "0     1  \n",
       "1     0  \n",
       "2     0  \n",
       "3     0  \n",
       "4     0  "
      ]
     },
     "execution_count": 11,
     "metadata": {},
     "output_type": "execute_result"
    }
   ],
   "source": [
    "# Read data from DB2 warehouse in BMX\n",
    "# -----------------------------------\n",
    "from ibmdbpy import IdaDataBase, IdaDataFrame\n",
    "\n",
    "# Call function to read data for specific sensor\n",
    "# @hidden_cell\n",
    "# The section below needs to be modified:\n",
    "#    Insert your credentials to read data from your data sources and replace \n",
    "#    the idaConnect() section below\n",
    "# This connection object is used to access your data and contains your credentials.\n",
    "idadb_d281f6cd34eb4bc98f0183a45598dbb9 = IdaDataBase(dsn='DASHDB;Database=BLUDB;Hostname=dashdb-entry-yp-lon02-01.services.eu-gb.bluemix.net;Port=50000;PROTOCOL=TCPIP;UID=dash100002;PWD=FNw_7glWu9B_')\n",
    "\n",
    "df_iotdata = IdaDataFrame(idadb_d281f6cd34eb4bc98f0183a45598dbb9, 'DASH100002.IOT_SENSOR_DATA').as_dataframe()\n",
    "\n",
    "# Check Number of observations read for analysis\n",
    "print (\"Number of Observations :\", len(df_iotdata))\n",
    "# Inspect a few observations\n",
    "df_iotdata.head()\n"
   ]
  },
  {
   "cell_type": "code",
   "execution_count": 12,
   "metadata": {},
   "outputs": [
    {
     "name": "stdout",
     "output_type": "stream",
     "text": [
      "Data set columns :  ['popul', 'atemp', 'selfLR', 'ClinLR', 'DoleLR', 'PID', 'outpressure', 'inpressure', 'temp', 'fail']\n"
     ]
    }
   ],
   "source": [
    "# Print dataset column names\n",
    "datacolumns = dataset_columns(df_iotdata)\n",
    "print (\"Data set columns : \", list(datacolumns))"
   ]
  },
  {
   "cell_type": "markdown",
   "metadata": {},
   "source": [
    "## 5 Run Failure Prediction algorithm on IoT data\n",
    "### 5.1 Split data into Training and Test data"
   ]
  },
  {
   "cell_type": "code",
   "execution_count": 13,
   "metadata": {},
   "outputs": [
    {
     "name": "stdout",
     "output_type": "stream",
     "text": [
      "Train x counts :  660 5\n",
      "Train y counts :  660\n",
      "Test x counts :  284 5\n",
      "Test y counts :  284\n"
     ]
    }
   ],
   "source": [
    "# Split Training and Testing data\n",
    "train_x, test_x, train_y, test_y = train_test_split(df_iotdata[v_feature_list], df_iotdata[v_target], train_size=v_train_datasize)\n",
    "print (\"Train x counts : \", len(train_x), len(train_x.columns.values))\n",
    "print (\"Train y counts : \", len(train_y))\n",
    " \n",
    "print (\"Test x counts : \", len(test_x), len(test_x.columns.values))\n",
    "print (\"Test y counts : \", len(test_y))\n"
   ]
  },
  {
   "cell_type": "markdown",
   "metadata": {},
   "source": [
    "### 5.2 Train the Predictive model"
   ]
  },
  {
   "cell_type": "code",
   "execution_count": 14,
   "metadata": {},
   "outputs": [
    {
     "name": "stdout",
     "output_type": "stream",
     "text": [
      "Training Accuracy :  90.0 %\n"
     ]
    }
   ],
   "source": [
    "# Training Logistic regression model\n",
    "trained_logistic_regression_model = train_logistic_regression(train_x, train_y)\n",
    "\n",
    "train_accuracy = model_accuracy(trained_logistic_regression_model, train_x, train_y)\n",
    "\n",
    "# Testing the logistic regression model\n",
    "test_accuracy = model_accuracy(trained_logistic_regression_model, test_x, test_y)\n",
    "\n",
    "print (\"Training Accuracy : \", round(train_accuracy * 100, 2), \"%\")\n",
    "\n"
   ]
  },
  {
   "cell_type": "markdown",
   "metadata": {},
   "source": [
    "### 5.3 Score the Test data using the Trained model"
   ]
  },
  {
   "cell_type": "code",
   "execution_count": 15,
   "metadata": {},
   "outputs": [],
   "source": [
    "# Model accuracy: Score and construct Confusion matrix for Test data\n",
    "actfail = test_y.values\n",
    "predictfail = score_data(trained_logistic_regression_model, test_x)\n"
   ]
  },
  {
   "cell_type": "markdown",
   "metadata": {},
   "source": [
    "## 6 Confusion matrix for deeper analysis of Prediction accuracy\n",
    "#####   Confusion matrix outputs below can be used for calculating more customised Accuracy metrics"
   ]
  },
  {
   "cell_type": "code",
   "execution_count": 16,
   "metadata": {},
   "outputs": [
    {
     "name": "stdout",
     "output_type": "stream",
     "text": [
      "Actual, Predicted Observations:   284 284\n",
      "--------------------------------------------\n",
      "Confusion Matrix\n",
      "--------------------------------------------\n",
      "               Predicted N Predicted Y\n",
      "Actual N       151            17\n",
      "Actual Y       7            109\n",
      "--------------------------------------------\n",
      "Total observations  :   284\n",
      "False Positives     :   17\n",
      "False Negatives     :   7\n",
      "Overall Accuracy    :   91.55 %\n",
      "Sensitivity/Recall  :   93.97 %\n",
      "Specificity         :   89.88 %\n",
      "Precision           :   86.51 %\n",
      "--------------------------------------------\n"
     ]
    }
   ],
   "source": [
    "# Print Count of Actual fails, Predicted fails\n",
    "# Print Confusion matrix\n",
    "confusion_matrix(actfail, predictfail)"
   ]
  }
 ],
 "metadata": {
  "kernelspec": {
   "display_name": "Python 3.5",
   "language": "python",
   "name": "python3"
  },
  "language_info": {
   "codemirror_mode": {
    "name": "ipython",
    "version": 3
   },
   "file_extension": ".py",
   "mimetype": "text/x-python",
   "name": "python",
   "nbconvert_exporter": "python",
   "pygments_lexer": "ipython3",
   "version": "3.5.4"
  }
 },
 "nbformat": 4,
 "nbformat_minor": 1
}
